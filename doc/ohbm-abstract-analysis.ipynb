{
 "cells": [
  {
   "cell_type": "code",
   "execution_count": 15,
   "metadata": {
    "collapsed": true
   },
   "outputs": [],
   "source": [
    "import pickle,os\n",
    "import os.path as osp\n",
    "import re\n",
    "import nltk\n",
    "from nltk.stem import WordNetLemmatizer\n",
    "wordnet_lemmatizer=WordNetLemmatizer()\n",
    "from ohbm.api import Api\n",
    "import ohbm"
   ]
  },
  {
   "cell_type": "code",
   "execution_count": 3,
   "metadata": {
    "collapsed": false
   },
   "outputs": [
    {
     "name": "stdout",
     "output_type": "stream",
     "text": [
      "\n",
      "Welcome, OHBM Trainer!\n"
     ]
    }
   ],
   "source": [
    "access_token=\"0C78129639B37234B95DBC94DA64F74A\"\n",
    "url='https://ww5.aievolution.com/hbm1701'\n",
    "api = Api(access_token,url)"
   ]
  },
  {
   "cell_type": "code",
   "execution_count": 5,
   "metadata": {
    "collapsed": false
   },
   "outputs": [
    {
     "name": "stdout",
     "output_type": "stream",
     "text": [
      "Found 2533 abstracts!\n"
     ]
    }
   ],
   "source": [
    "abstracts = api.Abstracts.getAbstracts()\n",
    "#abstracts = api.Abstracts.getAbstracts(abstractTypeID='3',acceptedFlag='99')"
   ]
  },
  {
   "cell_type": "code",
   "execution_count": 11,
   "metadata": {
    "collapsed": false
   },
   "outputs": [
    {
     "data": {
      "text/plain": [
       "'/home/jb/code/ohbm/ohbm/__init__.py'"
      ]
     },
     "execution_count": 11,
     "metadata": {},
     "output_type": "execute_result"
    }
   ],
   "source": [
    "ohbm.__file__"
   ]
  },
  {
   "cell_type": "code",
   "execution_count": 26,
   "metadata": {
    "collapsed": false
   },
   "outputs": [],
   "source": [
    "pckg_dir = osp.dirname(osp.dirname(ohbm.__file__))\n",
    "data_dir = osp.join(pckg_dir, 'abstracts_data')\n",
    "if not osp.isdir(data_dir): os.mkdir(data_dir)\n",
    "pickle.dump(abstracts, open(osp.join(data_dir, 'abstracts.pkl'),'wb'))"
   ]
  },
  {
   "cell_type": "code",
   "execution_count": 21,
   "metadata": {
    "collapsed": false
   },
   "outputs": [],
   "source": [
    "a = abstracts[0]"
   ]
  },
  {
   "cell_type": "code",
   "execution_count": 29,
   "metadata": {
    "collapsed": false
   },
   "outputs": [
    {
     "data": {
      "text/plain": [
       "dict_keys(['@id', 'materialsMethods', 'submissionNumber', 'endsOn', 'conclusion', 'abstractNumber', 'documents', 'events', '@updatedon', 'figures', 'speakers', 'shortTitle', 'abstractType', 'authors', 'estimatedAttendance', 'reference', 'category', 'embargoEndsOn', 'institution', 'status', 'categories', 'completedFlag', 'latebreakingFlag', 'startsOn', 'previewurl', 'purpose', 'estimatedCredits', 'results', 'approvedCredits', 'title', 'keywords', '@insertedon', 'acceptedFlag', 'planner', 'featuredFlag'])"
      ]
     },
     "execution_count": 29,
     "metadata": {},
     "output_type": "execute_result"
    }
   ],
   "source": [
    "a.keys()"
   ]
  },
  {
   "cell_type": "code",
   "execution_count": null,
   "metadata": {
    "collapsed": true
   },
   "outputs": [],
   "source": []
  }
 ],
 "metadata": {
  "kernelspec": {
   "display_name": "Python 3",
   "language": "python",
   "name": "python3"
  },
  "language_info": {
   "codemirror_mode": {
    "name": "ipython",
    "version": 3
   },
   "file_extension": ".py",
   "mimetype": "text/x-python",
   "name": "python",
   "nbconvert_exporter": "python",
   "pygments_lexer": "ipython3",
   "version": "3.5.2"
  }
 },
 "nbformat": 4,
 "nbformat_minor": 2
}
